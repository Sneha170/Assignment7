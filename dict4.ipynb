{
 "cells": [
  {
   "cell_type": "code",
   "execution_count": 1,
   "id": "3022c86e",
   "metadata": {},
   "outputs": [
    {
     "name": "stdout",
     "output_type": "stream",
     "text": [
      "key is present in dictionary \n",
      "key is not present in dictionary \n"
     ]
    }
   ],
   "source": [
    "d={1:10,2:20,3:30,4:40,5:50}\n",
    "def is_key(x):\n",
    "    if x in d:\n",
    "        print(\"key is present in dictionary \")\n",
    "    else:\n",
    "         print(\"key is not present in dictionary \")\n",
    "is_key(5)\n",
    "is_key(6)"
   ]
  },
  {
   "cell_type": "code",
   "execution_count": null,
   "id": "9905dacd",
   "metadata": {},
   "outputs": [],
   "source": []
  }
 ],
 "metadata": {
  "kernelspec": {
   "display_name": "Python 3 (ipykernel)",
   "language": "python",
   "name": "python3"
  },
  "language_info": {
   "codemirror_mode": {
    "name": "ipython",
    "version": 3
   },
   "file_extension": ".py",
   "mimetype": "text/x-python",
   "name": "python",
   "nbconvert_exporter": "python",
   "pygments_lexer": "ipython3",
   "version": "3.9.13"
  }
 },
 "nbformat": 4,
 "nbformat_minor": 5
}
