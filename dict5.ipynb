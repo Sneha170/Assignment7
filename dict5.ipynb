{
 "cells": [
  {
   "cell_type": "code",
   "execution_count": 3,
   "id": "a015e2aa",
   "metadata": {},
   "outputs": [
    {
     "name": "stdout",
     "output_type": "stream",
     "text": [
      "Red  corresponds to value  1\n",
      "Green  corresponds to value  2\n",
      "Blue  corresponds to value  3\n"
     ]
    }
   ],
   "source": [
    "d={'Red':1,'Green':2,'Blue':3}\n",
    "for key,value in d.items():\n",
    "    print(key,\" corresponds to value \",d[key])"
   ]
  },
  {
   "cell_type": "code",
   "execution_count": null,
   "id": "cd75c59b",
   "metadata": {},
   "outputs": [],
   "source": []
  }
 ],
 "metadata": {
  "kernelspec": {
   "display_name": "Python 3 (ipykernel)",
   "language": "python",
   "name": "python3"
  },
  "language_info": {
   "codemirror_mode": {
    "name": "ipython",
    "version": 3
   },
   "file_extension": ".py",
   "mimetype": "text/x-python",
   "name": "python",
   "nbconvert_exporter": "python",
   "pygments_lexer": "ipython3",
   "version": "3.9.13"
  }
 },
 "nbformat": 4,
 "nbformat_minor": 5
}
