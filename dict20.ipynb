{
 "cells": [
  {
   "cell_type": "code",
   "execution_count": 4,
   "id": "7a8e31e5",
   "metadata": {},
   "outputs": [
    {
     "name": "stdout",
     "output_type": "stream",
     "text": [
      "List 1 : [10, 20, 30]\n",
      "List 2 : [40, 50, 60]\n",
      "New list : [40, 50, 60, 10, 20, 30]\n"
     ]
    }
   ],
   "source": [
    "list1=[10,20,30]\n",
    "list2=[40,50,60]\n",
    "print(\"List 1 :\",list1)\n",
    "print(\"List 2 :\",list2)\n",
    "list1[:0]=list2\n",
    "print(\"New list :\",list1)"
   ]
  },
  {
   "cell_type": "code",
   "execution_count": null,
   "id": "603c6016",
   "metadata": {},
   "outputs": [],
   "source": []
  }
 ],
 "metadata": {
  "kernelspec": {
   "display_name": "Python 3 (ipykernel)",
   "language": "python",
   "name": "python3"
  },
  "language_info": {
   "codemirror_mode": {
    "name": "ipython",
    "version": 3
   },
   "file_extension": ".py",
   "mimetype": "text/x-python",
   "name": "python",
   "nbconvert_exporter": "python",
   "pygments_lexer": "ipython3",
   "version": "3.9.13"
  }
 },
 "nbformat": 4,
 "nbformat_minor": 5
}
