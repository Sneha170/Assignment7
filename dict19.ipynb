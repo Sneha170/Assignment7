{
 "cells": [
  {
   "cell_type": "code",
   "execution_count": 3,
   "id": "f9ef0bf6",
   "metadata": {},
   "outputs": [
    {
     "name": "stdout",
     "output_type": "stream",
     "text": [
      "List : [[10, 20], [40], [30, 56, 25], [10, 20], [33], [40]]\n",
      "New list : [[10, 20], [30, 56, 25], [33], [40]]\n"
     ]
    }
   ],
   "source": [
    "import itertools\n",
    "list1=[[10,20],[40],[30,56,25],[10,20],[33],[40]]\n",
    "print(\"List :\",list1)\n",
    "list1.sort()\n",
    "new_list=list(list1 for list1,_ in itertools.groupby(list1))\n",
    "print(\"New list :\",new_list)"
   ]
  },
  {
   "cell_type": "code",
   "execution_count": null,
   "id": "77760091",
   "metadata": {},
   "outputs": [],
   "source": []
  }
 ],
 "metadata": {
  "kernelspec": {
   "display_name": "Python 3 (ipykernel)",
   "language": "python",
   "name": "python3"
  },
  "language_info": {
   "codemirror_mode": {
    "name": "ipython",
    "version": 3
   },
   "file_extension": ".py",
   "mimetype": "text/x-python",
   "name": "python",
   "nbconvert_exporter": "python",
   "pygments_lexer": "ipython3",
   "version": "3.9.13"
  }
 },
 "nbformat": 4,
 "nbformat_minor": 5
}
