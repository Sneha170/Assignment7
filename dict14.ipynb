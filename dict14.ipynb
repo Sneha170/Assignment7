{
 "cells": [
  {
   "cell_type": "code",
   "execution_count": 1,
   "id": "fa2ac70b",
   "metadata": {},
   "outputs": [
    {
     "name": "stdout",
     "output_type": "stream",
     "text": [
      "Dictionary is empty\n"
     ]
    }
   ],
   "source": [
    "d={}\n",
    "if not bool(d):\n",
    "    print(\"Dictionary is empty\")"
   ]
  },
  {
   "cell_type": "code",
   "execution_count": 3,
   "id": "537425db",
   "metadata": {},
   "outputs": [
    {
     "name": "stdout",
     "output_type": "stream",
     "text": [
      "dictionary is not empty\n"
     ]
    }
   ],
   "source": [
    "d={'a':1}\n",
    "if not bool(d):\n",
    "    print(\"Dictionary is empty\")\n",
    "else:\n",
    "    print(\"dictionary is not empty\")"
   ]
  },
  {
   "cell_type": "code",
   "execution_count": null,
   "id": "d5aa710a",
   "metadata": {},
   "outputs": [],
   "source": []
  }
 ],
 "metadata": {
  "kernelspec": {
   "display_name": "Python 3 (ipykernel)",
   "language": "python",
   "name": "python3"
  },
  "language_info": {
   "codemirror_mode": {
    "name": "ipython",
    "version": 3
   },
   "file_extension": ".py",
   "mimetype": "text/x-python",
   "name": "python",
   "nbconvert_exporter": "python",
   "pygments_lexer": "ipython3",
   "version": "3.9.13"
  }
 },
 "nbformat": 4,
 "nbformat_minor": 5
}
