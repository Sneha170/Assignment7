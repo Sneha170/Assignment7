{
 "cells": [
  {
   "cell_type": "code",
   "execution_count": 2,
   "id": "dd6a883c",
   "metadata": {},
   "outputs": [
    {
     "name": "stdout",
     "output_type": "stream",
     "text": [
      "Initial Dictionary:  {'a': 100, 'b': 200, 'c': 300, 'd': 350, 'e': 400, 'f': 230}\n",
      "Dictionary with 3 highest values:\n",
      "Keys:values\n",
      "e : 400  \n",
      "d : 350  \n",
      "c : 300  \n"
     ]
    }
   ],
   "source": [
    "from collections import Counter\n",
    "d={'a':100,'b':200,'c':300,'d':350,'e':400,'f':230}\n",
    "k=Counter(d)\n",
    "high=k.most_common(3)\n",
    "print(\"Initial Dictionary: \",d)\n",
    "print(\"Dictionary with 3 highest values:\")\n",
    "print('Keys:values')\n",
    "for i in high:\n",
    "    print(i[0],\":\",i[1],\" \")"
   ]
  },
  {
   "cell_type": "code",
   "execution_count": null,
   "id": "76d2361b",
   "metadata": {},
   "outputs": [],
   "source": []
  }
 ],
 "metadata": {
  "kernelspec": {
   "display_name": "Python 3 (ipykernel)",
   "language": "python",
   "name": "python3"
  },
  "language_info": {
   "codemirror_mode": {
    "name": "ipython",
    "version": 3
   },
   "file_extension": ".py",
   "mimetype": "text/x-python",
   "name": "python",
   "nbconvert_exporter": "python",
   "pygments_lexer": "ipython3",
   "version": "3.9.13"
  }
 },
 "nbformat": 4,
 "nbformat_minor": 5
}
