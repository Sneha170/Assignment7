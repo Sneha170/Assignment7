{
 "cells": [
  {
   "cell_type": "code",
   "execution_count": 2,
   "id": "202511f1",
   "metadata": {},
   "outputs": [
    {
     "name": "stdout",
     "output_type": "stream",
     "text": [
      "original dictionary : {'a': 10, 'b': 20, 'C': 30, 'd': 10, 'e': 20}\n",
      "Ater removing duplicate values :{'a': 10, 'b': 20, 'C': 30}\n"
     ]
    }
   ],
   "source": [
    "d={'a':10,'b':20,'C':30,'d':10,'e':20}\n",
    "print(\"original dictionary :\",d)\n",
    "temp=[]\n",
    "res=dict()\n",
    "for key,val in d.items():\n",
    "    if val not in temp:\n",
    "        temp.append(val)\n",
    "        res[key]=val\n",
    "print(\"Ater removing duplicate values :\"+str(res))"
   ]
  },
  {
   "cell_type": "code",
   "execution_count": null,
   "id": "5dfeef58",
   "metadata": {},
   "outputs": [],
   "source": []
  }
 ],
 "metadata": {
  "kernelspec": {
   "display_name": "Python 3 (ipykernel)",
   "language": "python",
   "name": "python3"
  },
  "language_info": {
   "codemirror_mode": {
    "name": "ipython",
    "version": 3
   },
   "file_extension": ".py",
   "mimetype": "text/x-python",
   "name": "python",
   "nbconvert_exporter": "python",
   "pygments_lexer": "ipython3",
   "version": "3.9.13"
  }
 },
 "nbformat": 4,
 "nbformat_minor": 5
}
