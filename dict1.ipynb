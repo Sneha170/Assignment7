{
 "cells": [
  {
   "cell_type": "code",
   "execution_count": 2,
   "id": "21687d2a",
   "metadata": {},
   "outputs": [
    {
     "name": "stdout",
     "output_type": "stream",
     "text": [
      "Original dictionary :  {1: 2, 3: 4, 4: 3, 2: 1, 0: 0}\n",
      "Dictionary in ascending order  [(0, 0), (2, 1), (1, 2), (4, 3), (3, 4)]\n",
      "Dictionary in descending order  {3: 4, 4: 3, 1: 2, 2: 1, 0: 0}\n"
     ]
    }
   ],
   "source": [
    "import operator\n",
    "d={1:2,3:4,4:3,2:1,0:0}\n",
    "print(\"Original dictionary : \",d)\n",
    "sortd=sorted(d.items(),key=operator.itemgetter(1))\n",
    "print(\"Dictionary in ascending order \",sortd)\n",
    "sortd=dict(sorted(d.items(),key=operator.itemgetter(1),reverse=True))\n",
    "print(\"Dictionary in descending order \",sortd)"
   ]
  },
  {
   "cell_type": "code",
   "execution_count": null,
   "id": "c49620c0",
   "metadata": {},
   "outputs": [],
   "source": []
  }
 ],
 "metadata": {
  "kernelspec": {
   "display_name": "Python 3 (ipykernel)",
   "language": "python",
   "name": "python3"
  },
  "language_info": {
   "codemirror_mode": {
    "name": "ipython",
    "version": 3
   },
   "file_extension": ".py",
   "mimetype": "text/x-python",
   "name": "python",
   "nbconvert_exporter": "python",
   "pygments_lexer": "ipython3",
   "version": "3.9.13"
  }
 },
 "nbformat": 4,
 "nbformat_minor": 5
}
