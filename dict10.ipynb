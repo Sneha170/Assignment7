{
 "cells": [
  {
   "cell_type": "code",
   "execution_count": 1,
   "id": "5870452f",
   "metadata": {},
   "outputs": [
    {
     "name": "stdout",
     "output_type": "stream",
     "text": [
      "Dictionary : {'a': 10, 'b': 20, 'c': 30}\n",
      "After removing : {'a': 10, 'c': 30}\n"
     ]
    }
   ],
   "source": [
    "d={'a':10,'b':20,'c':30}\n",
    "print(\"Dictionary :\",d)\n",
    "if 'a' in d:\n",
    "    del d['b']\n",
    "print(\"After removing :\",d)"
   ]
  },
  {
   "cell_type": "code",
   "execution_count": null,
   "id": "18a7743d",
   "metadata": {},
   "outputs": [],
   "source": []
  }
 ],
 "metadata": {
  "kernelspec": {
   "display_name": "Python 3 (ipykernel)",
   "language": "python",
   "name": "python3"
  },
  "language_info": {
   "codemirror_mode": {
    "name": "ipython",
    "version": 3
   },
   "file_extension": ".py",
   "mimetype": "text/x-python",
   "name": "python",
   "nbconvert_exporter": "python",
   "pygments_lexer": "ipython3",
   "version": "3.9.13"
  }
 },
 "nbformat": 4,
 "nbformat_minor": 5
}
