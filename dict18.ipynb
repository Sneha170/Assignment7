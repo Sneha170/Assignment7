{
 "cells": [
  {
   "cell_type": "code",
   "execution_count": 1,
   "id": "b9426a3d",
   "metadata": {},
   "outputs": [
    {
     "name": "stdout",
     "output_type": "stream",
     "text": [
      "List 1 : [{}, {}, {}]\n",
      "True\n",
      "List 1 : [{1: 2}, {}, {}]\n",
      "False\n"
     ]
    }
   ],
   "source": [
    "li1=[{},{},{}]\n",
    "li2=[{1:2},{},{}]\n",
    "print(\"List 1 :\",li1)\n",
    "print(all(not d for d in li1))\n",
    "print(\"List 1 :\",li2)\n",
    "print(all(not d for d in li2))"
   ]
  },
  {
   "cell_type": "code",
   "execution_count": null,
   "id": "a0990b71",
   "metadata": {},
   "outputs": [],
   "source": []
  }
 ],
 "metadata": {
  "kernelspec": {
   "display_name": "Python 3 (ipykernel)",
   "language": "python",
   "name": "python3"
  },
  "language_info": {
   "codemirror_mode": {
    "name": "ipython",
    "version": 3
   },
   "file_extension": ".py",
   "mimetype": "text/x-python",
   "name": "python",
   "nbconvert_exporter": "python",
   "pygments_lexer": "ipython3",
   "version": "3.9.13"
  }
 },
 "nbformat": 4,
 "nbformat_minor": 5
}
