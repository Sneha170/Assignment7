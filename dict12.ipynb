{
 "cells": [
  {
   "cell_type": "code",
   "execution_count": 2,
   "id": "49aa9916",
   "metadata": {},
   "outputs": [
    {
     "name": "stdout",
     "output_type": "stream",
     "text": [
      "Maximum value : 300\n",
      "Minimum value:  100\n"
     ]
    }
   ],
   "source": [
    "d={'a':100,'b':200,'c':300}\n",
    "dmax=max(d.keys(),key=(lambda k:d[k]))\n",
    "dmin=min(d.keys(),key=(lambda k:d[k]))\n",
    "print(\"Maximum value :\",d[dmax])\n",
    "print(\"Minimum value: \",d[dmin])"
   ]
  },
  {
   "cell_type": "code",
   "execution_count": null,
   "id": "697a8360",
   "metadata": {},
   "outputs": [],
   "source": []
  }
 ],
 "metadata": {
  "kernelspec": {
   "display_name": "Python 3 (ipykernel)",
   "language": "python",
   "name": "python3"
  },
  "language_info": {
   "codemirror_mode": {
    "name": "ipython",
    "version": 3
   },
   "file_extension": ".py",
   "mimetype": "text/x-python",
   "name": "python",
   "nbconvert_exporter": "python",
   "pygments_lexer": "ipython3",
   "version": "3.9.13"
  }
 },
 "nbformat": 4,
 "nbformat_minor": 5
}
